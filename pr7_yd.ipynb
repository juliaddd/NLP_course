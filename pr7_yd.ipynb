{
 "nbformat": 4,
 "nbformat_minor": 0,
 "metadata": {
  "colab": {
   "provenance": []
  },
  "kernelspec": {
   "name": "python3",
   "display_name": "Python 3"
  }
 },
 "cells": [
  {
   "cell_type": "markdown",
   "metadata": {
    "id": "u01d30dm7Uyg"
   },
   "source": [
    "# **Natural Language Processing**\n",
    "## *Practice 6 - Supervised Learning*"
   ]
  },
  {
   "cell_type": "markdown",
   "metadata": {
    "id": "ngEznx9s7Txv"
   },
   "source": [
    "## Objectives\n",
    "\n",
    "* To use supervised learning classifiers and apply them in a collection, making use of the Sklearn Python library.\n"
   ]
  },
  {
   "cell_type": "markdown",
   "metadata": {
    "id": "BuxafLv86Res"
   },
   "source": [
    "### Supervised learning\n",
    "\n",
    "Supervised learning allows future predictions based on behaviors or features analyzed in labeled historical data.\n",
    "\n",
    "A label is the representation of the knowledge about the data.\n"
   ]
  },
  {
   "cell_type": "markdown",
   "metadata": {
    "id": "Q2W-q-8P6iaL"
   },
   "source": [
    "#### 1. How it works\n",
    "\n",
    "To understand how supervised learning works, we will use an example where we have a set of data labeled a priori: 1 apples, 2 citrus fruits, 3 watermelons and 4 bananas. From this dataset we extract its features in vectors (Tf-Idf or other types) and with this we train the machine learning algorithm.\n",
    "\n",
    "The algorithm generates a model that we can provide it with new data sets and it classifies the new elements (never seen before) with what it has learned in the training phase.\n",
    "\n",
    "<img src=\"https://www.diegocalvo.es/wp-content/uploads/2019/03/aprendizaje_supervisado.png\" width=\"800\" height=\"500\" />\n",
    "\n",
    "\n"
   ]
  },
  {
   "cell_type": "markdown",
   "metadata": {
    "id": "PeGOcW98DkaG"
   },
   "source": [
    "<img src=\"https://www.diegocalvo.es/wp-content/uploads/2019/03/clasificaci%C3%B3n_de_aprendizaje_supervisado.png\" width=\"400\" height=\"300\" />"
   ]
  },
  {
   "cell_type": "markdown",
   "metadata": {
    "id": "Qw7gjrRv8tRi"
   },
   "source": [
    "#### 2. Regression\n",
    "\n",
    "Regression aims to predict continuous values from labeled historical data.\n",
    "\n",
    "An example of this method is the estimation of a client's spending as a function of income and number of children.\n",
    "\n",
    "Types of regression algorithms include:\n",
    "* Linear regression\n",
    "* Polynomial regression\n",
    "* Support vector regression\n",
    "* Decision trees regression\n",
    "* Random forest regression"
   ]
  },
  {
   "cell_type": "markdown",
   "metadata": {
    "id": "MgyqhPyn9LZN"
   },
   "source": [
    "#### 3. Classification\n",
    "\n",
    "It aims to classify into groups based on labeled historical data.\n",
    "\n",
    "An example of this method is the estimation to classify fruits according to color, shape, texture...\n",
    "\n",
    "\n",
    "<img src=\"https://www.diegocalvo.es/wp-content/uploads/2019/03/clasificaci%C3%B3n.png\" width=\"280\" height=\"200\" />\n",
    "\n"
   ]
  },
  {
   "cell_type": "markdown",
   "metadata": {
    "id": "V41M7LZc9yjR"
   },
   "source": [
    "Types of classification algorithms include:\n",
    "* Logistic regression.\n",
    "* Nearest neighbors.\n",
    "* Support vector machines.\n",
    "* Classification decision trees.\n",
    "* Random forest classification."
   ]
  },
  {
   "cell_type": "markdown",
   "metadata": {
    "id": "QY3CVAu9EL2H"
   },
   "source": [
    "#### Example\n",
    "\n",
    "Example of Support Vector Machines (SVM) in Python:\n",
    "\n",
    "1) Add the necessary libraries\n"
   ]
  },
  {
   "cell_type": "code",
   "metadata": {
    "id": "RheaS4tJ96Cy",
    "executionInfo": {
     "status": "ok",
     "timestamp": 1743413191492,
     "user_tz": -120,
     "elapsed": 5527,
     "user": {
      "displayName": "Yuliya Dabreha",
      "userId": "05622474096039686923"
     }
    }
   },
   "source": [
    "from sklearn import svm"
   ],
   "execution_count": 1,
   "outputs": []
  },
  {
   "cell_type": "markdown",
   "metadata": {
    "id": "ANj06V7C-FVn"
   },
   "source": [
    "2) We add the texts in a Python list:"
   ]
  },
  {
   "cell_type": "code",
   "metadata": {
    "id": "O7gPB6Rr-Esq",
    "executionInfo": {
     "status": "ok",
     "timestamp": 1743413201392,
     "user_tz": -120,
     "elapsed": 9,
     "user": {
      "displayName": "Yuliya Dabreha",
      "userId": "05622474096039686923"
     }
    }
   },
   "source": [
    "documents = [\"This little kitty came to play when I was eating at a restaurant.\",\n",
    "             \"Merley has the best squooshy kitten belly.\",\n",
    "             \"Google Translate app is incredible.\",\n",
    "             \"If you open 100 tab in google you get a smiley face.\",\n",
    "             \"Best cat photo I've ever taken.\",\n",
    "             \"Climbing ninja cat.\",\n",
    "             \"Impressed with google map feedback.\",\n",
    "             \"Key promoter extension for Google Chrome.\"]\n"
   ],
   "execution_count": 2,
   "outputs": []
  },
  {
   "cell_type": "markdown",
   "metadata": {
    "id": "wPgTYur9EYjM"
   },
   "source": [
    "3) We add the tags or classes to each document, we must take into account the position in the vector:\n"
   ]
  },
  {
   "cell_type": "code",
   "metadata": {
    "id": "jwMdJxJoEXy9",
    "executionInfo": {
     "status": "ok",
     "timestamp": 1743413211263,
     "user_tz": -120,
     "elapsed": 3,
     "user": {
      "displayName": "Yuliya Dabreha",
      "userId": "05622474096039686923"
     }
    }
   },
   "source": [
    "tags = [\"cat\", \"cat\", \"google\", \"google\", \"cat\", \"cat\", \"google\", \"google\"]"
   ],
   "execution_count": 3,
   "outputs": []
  },
  {
   "cell_type": "markdown",
   "metadata": {
    "id": "zfIOy0AGEcdw"
   },
   "source": [
    "In this way the document in the first position documents[0] will have the tag in the first position tags[0], and so on consecutively."
   ]
  },
  {
   "cell_type": "markdown",
   "metadata": {
    "id": "YxTxpMAI-OVu"
   },
   "source": [
    "4) We extract the features using TF-IDF:"
   ]
  },
  {
   "cell_type": "code",
   "metadata": {
    "id": "XdWqOXfJ-bzM",
    "executionInfo": {
     "status": "ok",
     "timestamp": 1743413218395,
     "user_tz": -120,
     "elapsed": 138,
     "user": {
      "displayName": "Yuliya Dabreha",
      "userId": "05622474096039686923"
     }
    }
   },
   "source": [
    "from sklearn.feature_extraction.text import TfidfVectorizer\n",
    "vectorizer = TfidfVectorizer()\n",
    "X = vectorizer.fit_transform(documents)"
   ],
   "execution_count": 4,
   "outputs": []
  },
  {
   "cell_type": "markdown",
   "metadata": {
    "id": "PJP7oUH4-pMk"
   },
   "source": [
    "5) We create and train the SVM model with the default parameters, note that for training we need the tags of each document:\n"
   ]
  },
  {
   "cell_type": "code",
   "metadata": {
    "id": "cHuJ8g01-u_M",
    "colab": {
     "base_uri": "https://localhost:8080/",
     "height": 80
    },
    "executionInfo": {
     "status": "ok",
     "timestamp": 1743413222956,
     "user_tz": -120,
     "elapsed": 52,
     "user": {
      "displayName": "Yuliya Dabreha",
      "userId": "05622474096039686923"
     }
    },
    "outputId": "0cfedb16-d04d-49c7-ca76-f71184e1a155"
   },
   "source": [
    "model = svm.SVC()\n",
    "model.fit(X, tags)"
   ],
   "execution_count": 5,
   "outputs": [
    {
     "output_type": "execute_result",
     "data": {
      "text/plain": [
       "SVC()"
      ],
      "text/html": [
       "<style>#sk-container-id-1 {\n",
       "  /* Definition of color scheme common for light and dark mode */\n",
       "  --sklearn-color-text: #000;\n",
       "  --sklearn-color-text-muted: #666;\n",
       "  --sklearn-color-line: gray;\n",
       "  /* Definition of color scheme for unfitted estimators */\n",
       "  --sklearn-color-unfitted-level-0: #fff5e6;\n",
       "  --sklearn-color-unfitted-level-1: #f6e4d2;\n",
       "  --sklearn-color-unfitted-level-2: #ffe0b3;\n",
       "  --sklearn-color-unfitted-level-3: chocolate;\n",
       "  /* Definition of color scheme for fitted estimators */\n",
       "  --sklearn-color-fitted-level-0: #f0f8ff;\n",
       "  --sklearn-color-fitted-level-1: #d4ebff;\n",
       "  --sklearn-color-fitted-level-2: #b3dbfd;\n",
       "  --sklearn-color-fitted-level-3: cornflowerblue;\n",
       "\n",
       "  /* Specific color for light theme */\n",
       "  --sklearn-color-text-on-default-background: var(--sg-text-color, var(--theme-code-foreground, var(--jp-content-font-color1, black)));\n",
       "  --sklearn-color-background: var(--sg-background-color, var(--theme-background, var(--jp-layout-color0, white)));\n",
       "  --sklearn-color-border-box: var(--sg-text-color, var(--theme-code-foreground, var(--jp-content-font-color1, black)));\n",
       "  --sklearn-color-icon: #696969;\n",
       "\n",
       "  @media (prefers-color-scheme: dark) {\n",
       "    /* Redefinition of color scheme for dark theme */\n",
       "    --sklearn-color-text-on-default-background: var(--sg-text-color, var(--theme-code-foreground, var(--jp-content-font-color1, white)));\n",
       "    --sklearn-color-background: var(--sg-background-color, var(--theme-background, var(--jp-layout-color0, #111)));\n",
       "    --sklearn-color-border-box: var(--sg-text-color, var(--theme-code-foreground, var(--jp-content-font-color1, white)));\n",
       "    --sklearn-color-icon: #878787;\n",
       "  }\n",
       "}\n",
       "\n",
       "#sk-container-id-1 {\n",
       "  color: var(--sklearn-color-text);\n",
       "}\n",
       "\n",
       "#sk-container-id-1 pre {\n",
       "  padding: 0;\n",
       "}\n",
       "\n",
       "#sk-container-id-1 input.sk-hidden--visually {\n",
       "  border: 0;\n",
       "  clip: rect(1px 1px 1px 1px);\n",
       "  clip: rect(1px, 1px, 1px, 1px);\n",
       "  height: 1px;\n",
       "  margin: -1px;\n",
       "  overflow: hidden;\n",
       "  padding: 0;\n",
       "  position: absolute;\n",
       "  width: 1px;\n",
       "}\n",
       "\n",
       "#sk-container-id-1 div.sk-dashed-wrapped {\n",
       "  border: 1px dashed var(--sklearn-color-line);\n",
       "  margin: 0 0.4em 0.5em 0.4em;\n",
       "  box-sizing: border-box;\n",
       "  padding-bottom: 0.4em;\n",
       "  background-color: var(--sklearn-color-background);\n",
       "}\n",
       "\n",
       "#sk-container-id-1 div.sk-container {\n",
       "  /* jupyter's `normalize.less` sets `[hidden] { display: none; }`\n",
       "     but bootstrap.min.css set `[hidden] { display: none !important; }`\n",
       "     so we also need the `!important` here to be able to override the\n",
       "     default hidden behavior on the sphinx rendered scikit-learn.org.\n",
       "     See: https://github.com/scikit-learn/scikit-learn/issues/21755 */\n",
       "  display: inline-block !important;\n",
       "  position: relative;\n",
       "}\n",
       "\n",
       "#sk-container-id-1 div.sk-text-repr-fallback {\n",
       "  display: none;\n",
       "}\n",
       "\n",
       "div.sk-parallel-item,\n",
       "div.sk-serial,\n",
       "div.sk-item {\n",
       "  /* draw centered vertical line to link estimators */\n",
       "  background-image: linear-gradient(var(--sklearn-color-text-on-default-background), var(--sklearn-color-text-on-default-background));\n",
       "  background-size: 2px 100%;\n",
       "  background-repeat: no-repeat;\n",
       "  background-position: center center;\n",
       "}\n",
       "\n",
       "/* Parallel-specific style estimator block */\n",
       "\n",
       "#sk-container-id-1 div.sk-parallel-item::after {\n",
       "  content: \"\";\n",
       "  width: 100%;\n",
       "  border-bottom: 2px solid var(--sklearn-color-text-on-default-background);\n",
       "  flex-grow: 1;\n",
       "}\n",
       "\n",
       "#sk-container-id-1 div.sk-parallel {\n",
       "  display: flex;\n",
       "  align-items: stretch;\n",
       "  justify-content: center;\n",
       "  background-color: var(--sklearn-color-background);\n",
       "  position: relative;\n",
       "}\n",
       "\n",
       "#sk-container-id-1 div.sk-parallel-item {\n",
       "  display: flex;\n",
       "  flex-direction: column;\n",
       "}\n",
       "\n",
       "#sk-container-id-1 div.sk-parallel-item:first-child::after {\n",
       "  align-self: flex-end;\n",
       "  width: 50%;\n",
       "}\n",
       "\n",
       "#sk-container-id-1 div.sk-parallel-item:last-child::after {\n",
       "  align-self: flex-start;\n",
       "  width: 50%;\n",
       "}\n",
       "\n",
       "#sk-container-id-1 div.sk-parallel-item:only-child::after {\n",
       "  width: 0;\n",
       "}\n",
       "\n",
       "/* Serial-specific style estimator block */\n",
       "\n",
       "#sk-container-id-1 div.sk-serial {\n",
       "  display: flex;\n",
       "  flex-direction: column;\n",
       "  align-items: center;\n",
       "  background-color: var(--sklearn-color-background);\n",
       "  padding-right: 1em;\n",
       "  padding-left: 1em;\n",
       "}\n",
       "\n",
       "\n",
       "/* Toggleable style: style used for estimator/Pipeline/ColumnTransformer box that is\n",
       "clickable and can be expanded/collapsed.\n",
       "- Pipeline and ColumnTransformer use this feature and define the default style\n",
       "- Estimators will overwrite some part of the style using the `sk-estimator` class\n",
       "*/\n",
       "\n",
       "/* Pipeline and ColumnTransformer style (default) */\n",
       "\n",
       "#sk-container-id-1 div.sk-toggleable {\n",
       "  /* Default theme specific background. It is overwritten whether we have a\n",
       "  specific estimator or a Pipeline/ColumnTransformer */\n",
       "  background-color: var(--sklearn-color-background);\n",
       "}\n",
       "\n",
       "/* Toggleable label */\n",
       "#sk-container-id-1 label.sk-toggleable__label {\n",
       "  cursor: pointer;\n",
       "  display: flex;\n",
       "  width: 100%;\n",
       "  margin-bottom: 0;\n",
       "  padding: 0.5em;\n",
       "  box-sizing: border-box;\n",
       "  text-align: center;\n",
       "  align-items: start;\n",
       "  justify-content: space-between;\n",
       "  gap: 0.5em;\n",
       "}\n",
       "\n",
       "#sk-container-id-1 label.sk-toggleable__label .caption {\n",
       "  font-size: 0.6rem;\n",
       "  font-weight: lighter;\n",
       "  color: var(--sklearn-color-text-muted);\n",
       "}\n",
       "\n",
       "#sk-container-id-1 label.sk-toggleable__label-arrow:before {\n",
       "  /* Arrow on the left of the label */\n",
       "  content: \"▸\";\n",
       "  float: left;\n",
       "  margin-right: 0.25em;\n",
       "  color: var(--sklearn-color-icon);\n",
       "}\n",
       "\n",
       "#sk-container-id-1 label.sk-toggleable__label-arrow:hover:before {\n",
       "  color: var(--sklearn-color-text);\n",
       "}\n",
       "\n",
       "/* Toggleable content - dropdown */\n",
       "\n",
       "#sk-container-id-1 div.sk-toggleable__content {\n",
       "  max-height: 0;\n",
       "  max-width: 0;\n",
       "  overflow: hidden;\n",
       "  text-align: left;\n",
       "  /* unfitted */\n",
       "  background-color: var(--sklearn-color-unfitted-level-0);\n",
       "}\n",
       "\n",
       "#sk-container-id-1 div.sk-toggleable__content.fitted {\n",
       "  /* fitted */\n",
       "  background-color: var(--sklearn-color-fitted-level-0);\n",
       "}\n",
       "\n",
       "#sk-container-id-1 div.sk-toggleable__content pre {\n",
       "  margin: 0.2em;\n",
       "  border-radius: 0.25em;\n",
       "  color: var(--sklearn-color-text);\n",
       "  /* unfitted */\n",
       "  background-color: var(--sklearn-color-unfitted-level-0);\n",
       "}\n",
       "\n",
       "#sk-container-id-1 div.sk-toggleable__content.fitted pre {\n",
       "  /* unfitted */\n",
       "  background-color: var(--sklearn-color-fitted-level-0);\n",
       "}\n",
       "\n",
       "#sk-container-id-1 input.sk-toggleable__control:checked~div.sk-toggleable__content {\n",
       "  /* Expand drop-down */\n",
       "  max-height: 200px;\n",
       "  max-width: 100%;\n",
       "  overflow: auto;\n",
       "}\n",
       "\n",
       "#sk-container-id-1 input.sk-toggleable__control:checked~label.sk-toggleable__label-arrow:before {\n",
       "  content: \"▾\";\n",
       "}\n",
       "\n",
       "/* Pipeline/ColumnTransformer-specific style */\n",
       "\n",
       "#sk-container-id-1 div.sk-label input.sk-toggleable__control:checked~label.sk-toggleable__label {\n",
       "  color: var(--sklearn-color-text);\n",
       "  background-color: var(--sklearn-color-unfitted-level-2);\n",
       "}\n",
       "\n",
       "#sk-container-id-1 div.sk-label.fitted input.sk-toggleable__control:checked~label.sk-toggleable__label {\n",
       "  background-color: var(--sklearn-color-fitted-level-2);\n",
       "}\n",
       "\n",
       "/* Estimator-specific style */\n",
       "\n",
       "/* Colorize estimator box */\n",
       "#sk-container-id-1 div.sk-estimator input.sk-toggleable__control:checked~label.sk-toggleable__label {\n",
       "  /* unfitted */\n",
       "  background-color: var(--sklearn-color-unfitted-level-2);\n",
       "}\n",
       "\n",
       "#sk-container-id-1 div.sk-estimator.fitted input.sk-toggleable__control:checked~label.sk-toggleable__label {\n",
       "  /* fitted */\n",
       "  background-color: var(--sklearn-color-fitted-level-2);\n",
       "}\n",
       "\n",
       "#sk-container-id-1 div.sk-label label.sk-toggleable__label,\n",
       "#sk-container-id-1 div.sk-label label {\n",
       "  /* The background is the default theme color */\n",
       "  color: var(--sklearn-color-text-on-default-background);\n",
       "}\n",
       "\n",
       "/* On hover, darken the color of the background */\n",
       "#sk-container-id-1 div.sk-label:hover label.sk-toggleable__label {\n",
       "  color: var(--sklearn-color-text);\n",
       "  background-color: var(--sklearn-color-unfitted-level-2);\n",
       "}\n",
       "\n",
       "/* Label box, darken color on hover, fitted */\n",
       "#sk-container-id-1 div.sk-label.fitted:hover label.sk-toggleable__label.fitted {\n",
       "  color: var(--sklearn-color-text);\n",
       "  background-color: var(--sklearn-color-fitted-level-2);\n",
       "}\n",
       "\n",
       "/* Estimator label */\n",
       "\n",
       "#sk-container-id-1 div.sk-label label {\n",
       "  font-family: monospace;\n",
       "  font-weight: bold;\n",
       "  display: inline-block;\n",
       "  line-height: 1.2em;\n",
       "}\n",
       "\n",
       "#sk-container-id-1 div.sk-label-container {\n",
       "  text-align: center;\n",
       "}\n",
       "\n",
       "/* Estimator-specific */\n",
       "#sk-container-id-1 div.sk-estimator {\n",
       "  font-family: monospace;\n",
       "  border: 1px dotted var(--sklearn-color-border-box);\n",
       "  border-radius: 0.25em;\n",
       "  box-sizing: border-box;\n",
       "  margin-bottom: 0.5em;\n",
       "  /* unfitted */\n",
       "  background-color: var(--sklearn-color-unfitted-level-0);\n",
       "}\n",
       "\n",
       "#sk-container-id-1 div.sk-estimator.fitted {\n",
       "  /* fitted */\n",
       "  background-color: var(--sklearn-color-fitted-level-0);\n",
       "}\n",
       "\n",
       "/* on hover */\n",
       "#sk-container-id-1 div.sk-estimator:hover {\n",
       "  /* unfitted */\n",
       "  background-color: var(--sklearn-color-unfitted-level-2);\n",
       "}\n",
       "\n",
       "#sk-container-id-1 div.sk-estimator.fitted:hover {\n",
       "  /* fitted */\n",
       "  background-color: var(--sklearn-color-fitted-level-2);\n",
       "}\n",
       "\n",
       "/* Specification for estimator info (e.g. \"i\" and \"?\") */\n",
       "\n",
       "/* Common style for \"i\" and \"?\" */\n",
       "\n",
       ".sk-estimator-doc-link,\n",
       "a:link.sk-estimator-doc-link,\n",
       "a:visited.sk-estimator-doc-link {\n",
       "  float: right;\n",
       "  font-size: smaller;\n",
       "  line-height: 1em;\n",
       "  font-family: monospace;\n",
       "  background-color: var(--sklearn-color-background);\n",
       "  border-radius: 1em;\n",
       "  height: 1em;\n",
       "  width: 1em;\n",
       "  text-decoration: none !important;\n",
       "  margin-left: 0.5em;\n",
       "  text-align: center;\n",
       "  /* unfitted */\n",
       "  border: var(--sklearn-color-unfitted-level-1) 1pt solid;\n",
       "  color: var(--sklearn-color-unfitted-level-1);\n",
       "}\n",
       "\n",
       ".sk-estimator-doc-link.fitted,\n",
       "a:link.sk-estimator-doc-link.fitted,\n",
       "a:visited.sk-estimator-doc-link.fitted {\n",
       "  /* fitted */\n",
       "  border: var(--sklearn-color-fitted-level-1) 1pt solid;\n",
       "  color: var(--sklearn-color-fitted-level-1);\n",
       "}\n",
       "\n",
       "/* On hover */\n",
       "div.sk-estimator:hover .sk-estimator-doc-link:hover,\n",
       ".sk-estimator-doc-link:hover,\n",
       "div.sk-label-container:hover .sk-estimator-doc-link:hover,\n",
       ".sk-estimator-doc-link:hover {\n",
       "  /* unfitted */\n",
       "  background-color: var(--sklearn-color-unfitted-level-3);\n",
       "  color: var(--sklearn-color-background);\n",
       "  text-decoration: none;\n",
       "}\n",
       "\n",
       "div.sk-estimator.fitted:hover .sk-estimator-doc-link.fitted:hover,\n",
       ".sk-estimator-doc-link.fitted:hover,\n",
       "div.sk-label-container:hover .sk-estimator-doc-link.fitted:hover,\n",
       ".sk-estimator-doc-link.fitted:hover {\n",
       "  /* fitted */\n",
       "  background-color: var(--sklearn-color-fitted-level-3);\n",
       "  color: var(--sklearn-color-background);\n",
       "  text-decoration: none;\n",
       "}\n",
       "\n",
       "/* Span, style for the box shown on hovering the info icon */\n",
       ".sk-estimator-doc-link span {\n",
       "  display: none;\n",
       "  z-index: 9999;\n",
       "  position: relative;\n",
       "  font-weight: normal;\n",
       "  right: .2ex;\n",
       "  padding: .5ex;\n",
       "  margin: .5ex;\n",
       "  width: min-content;\n",
       "  min-width: 20ex;\n",
       "  max-width: 50ex;\n",
       "  color: var(--sklearn-color-text);\n",
       "  box-shadow: 2pt 2pt 4pt #999;\n",
       "  /* unfitted */\n",
       "  background: var(--sklearn-color-unfitted-level-0);\n",
       "  border: .5pt solid var(--sklearn-color-unfitted-level-3);\n",
       "}\n",
       "\n",
       ".sk-estimator-doc-link.fitted span {\n",
       "  /* fitted */\n",
       "  background: var(--sklearn-color-fitted-level-0);\n",
       "  border: var(--sklearn-color-fitted-level-3);\n",
       "}\n",
       "\n",
       ".sk-estimator-doc-link:hover span {\n",
       "  display: block;\n",
       "}\n",
       "\n",
       "/* \"?\"-specific style due to the `<a>` HTML tag */\n",
       "\n",
       "#sk-container-id-1 a.estimator_doc_link {\n",
       "  float: right;\n",
       "  font-size: 1rem;\n",
       "  line-height: 1em;\n",
       "  font-family: monospace;\n",
       "  background-color: var(--sklearn-color-background);\n",
       "  border-radius: 1rem;\n",
       "  height: 1rem;\n",
       "  width: 1rem;\n",
       "  text-decoration: none;\n",
       "  /* unfitted */\n",
       "  color: var(--sklearn-color-unfitted-level-1);\n",
       "  border: var(--sklearn-color-unfitted-level-1) 1pt solid;\n",
       "}\n",
       "\n",
       "#sk-container-id-1 a.estimator_doc_link.fitted {\n",
       "  /* fitted */\n",
       "  border: var(--sklearn-color-fitted-level-1) 1pt solid;\n",
       "  color: var(--sklearn-color-fitted-level-1);\n",
       "}\n",
       "\n",
       "/* On hover */\n",
       "#sk-container-id-1 a.estimator_doc_link:hover {\n",
       "  /* unfitted */\n",
       "  background-color: var(--sklearn-color-unfitted-level-3);\n",
       "  color: var(--sklearn-color-background);\n",
       "  text-decoration: none;\n",
       "}\n",
       "\n",
       "#sk-container-id-1 a.estimator_doc_link.fitted:hover {\n",
       "  /* fitted */\n",
       "  background-color: var(--sklearn-color-fitted-level-3);\n",
       "}\n",
       "</style><div id=\"sk-container-id-1\" class=\"sk-top-container\"><div class=\"sk-text-repr-fallback\"><pre>SVC()</pre><b>In a Jupyter environment, please rerun this cell to show the HTML representation or trust the notebook. <br />On GitHub, the HTML representation is unable to render, please try loading this page with nbviewer.org.</b></div><div class=\"sk-container\" hidden><div class=\"sk-item\"><div class=\"sk-estimator fitted sk-toggleable\"><input class=\"sk-toggleable__control sk-hidden--visually\" id=\"sk-estimator-id-1\" type=\"checkbox\" checked><label for=\"sk-estimator-id-1\" class=\"sk-toggleable__label fitted sk-toggleable__label-arrow\"><div><div>SVC</div></div><div><a class=\"sk-estimator-doc-link fitted\" rel=\"noreferrer\" target=\"_blank\" href=\"https://scikit-learn.org/1.6/modules/generated/sklearn.svm.SVC.html\">?<span>Documentation for SVC</span></a><span class=\"sk-estimator-doc-link fitted\">i<span>Fitted</span></span></div></label><div class=\"sk-toggleable__content fitted\"><pre>SVC()</pre></div> </div></div></div></div>"
      ]
     },
     "metadata": {},
     "execution_count": 5
    }
   ]
  },
  {
   "cell_type": "markdown",
   "metadata": {
    "id": "FLWAuS8u-zN2"
   },
   "source": [
    "6) Predict which group (cat or google) would be appropriate for our new text:\n"
   ]
  },
  {
   "cell_type": "code",
   "metadata": {
    "id": "BExBtKvx-2Oj",
    "colab": {
     "base_uri": "https://localhost:8080/"
    },
    "executionInfo": {
     "status": "ok",
     "timestamp": 1743413231024,
     "user_tz": -120,
     "elapsed": 11,
     "user": {
      "displayName": "Yuliya Dabreha",
      "userId": "05622474096039686923"
     }
    },
    "outputId": "5669ef39-2925-445c-80d0-4c7c101ca6df"
   },
   "source": [
    "text = [\"My chrome browser to open.\"]\n",
    "Y = vectorizer.transform(text)\n",
    "prediction = model.predict(Y)\n",
    "print(text, prediction)\n",
    "text = [\"Drago's cat is cute.\"]\n",
    "Y = vectorizer.transform(text)\n",
    "prediction = model.predict(Y)\n",
    "print(text, prediction)"
   ],
   "execution_count": 6,
   "outputs": [
    {
     "output_type": "stream",
     "name": "stdout",
     "text": [
      "['My chrome browser to open.'] ['google']\n",
      "[\"Drago's cat is cute.\"] ['cat']\n"
     ]
    }
   ]
  },
  {
   "cell_type": "markdown",
   "metadata": {
    "id": "8L10vFKy_a_v"
   },
   "source": [
    "## Tutorials\n",
    "\n",
    "SVM Tutorial: https://scikit-learn.org/stable/modules/generated/sklearn.svm.SVC.html\n",
    "\n",
    "Tf-Idf Tutorial: https://scikit-learn.org/stable/modules/generated/sklearn.feature_extraction.text.TfidfVectorizer.html"
   ]
  },
  {
   "cell_type": "markdown",
   "metadata": {
    "id": "IMKBCaDi30Tz"
   },
   "source": [
    "## Exercises\n",
    "\n",
    "The result of this practice must be delivered in PLATEA and has a deadline of **23:59 hours on March 31, 2025**. This same notebook with extension *.ipynb* will be submitted and renamed as follows: pr7_user1_user2.ipynb. Replace \"user1\" and \"user2\" with your email alias.\n",
    "\n",
    "### Exercise 1\n",
    "\n",
    "Use the **Gender** corpus available in the \"Material Complementario\" folder of Docencia Virtual to create a supervised model.\n",
    "\n",
    "You can choose the classification method of your choice.\n",
    "\n",
    "The Gender corpus has two available labels F (female) and M (male). We will try to predict whether a text is written by a woman or a man.\n",
    "\n",
    "To do this, process the text of each document in the collection:\n",
    "* Tokenize the text\n",
    "* Remove tge empty words\n",
    "* Reduces words to their root\n",
    "* Change the text to lowercase\n",
    "\n",
    "Subsequently, use the method seen in the Tf-Idf class on the already processed documents and train the model you have chosen.\n",
    "\n",
    "Predict the possible gender of these texts that you will find in the text files: predic_gender1.txt, predic_gender2.txt and predic_gender3.txt. You will find these files in the \"Material Complementario\" folder of PLATEA.\n",
    "\n",
    "**NOTE**: it is important to process the texts we want to predict in the same way as we have processed all the documents in the collection so that the model can find the same words.\n"
   ]
  },
  {
   "cell_type": "markdown",
   "source": [
    "### Text preprocessing and model training"
   ],
   "metadata": {
    "id": "tdhGjM991UFR"
   }
  },
  {
   "cell_type": "code",
   "source": [
    "from google.colab import drive\n",
    "drive.mount('/content/drive')"
   ],
   "metadata": {
    "colab": {
     "base_uri": "https://localhost:8080/"
    },
    "id": "7yJEhVSNjGAI",
    "executionInfo": {
     "status": "ok",
     "timestamp": 1743413705528,
     "user_tz": -120,
     "elapsed": 27285,
     "user": {
      "displayName": "Yuliya Dabreha",
      "userId": "05622474096039686923"
     }
    },
    "outputId": "c2cbdef7-477d-48a1-e64a-643f9723c9d3"
   },
   "execution_count": 8,
   "outputs": [
    {
     "output_type": "stream",
     "name": "stdout",
     "text": [
      "Mounted at /content/drive\n"
     ]
    }
   ]
  },
  {
   "cell_type": "code",
   "source": [
    "from os import path\n",
    "path = \"/content/drive/MyDrive/NLP/gender/gender_corpus.xlsx\""
   ],
   "metadata": {
    "id": "Gprl1DoLjGIz",
    "executionInfo": {
     "status": "ok",
     "timestamp": 1743414001249,
     "user_tz": -120,
     "elapsed": 2,
     "user": {
      "displayName": "Yuliya Dabreha",
      "userId": "05622474096039686923"
     }
    }
   },
   "execution_count": 13,
   "outputs": []
  },
  {
   "cell_type": "code",
   "source": [
    "import pandas as pd"
   ],
   "metadata": {
    "id": "3IvthmfNjGPe",
    "executionInfo": {
     "status": "ok",
     "timestamp": 1743414018598,
     "user_tz": -120,
     "elapsed": 16441,
     "user": {
      "displayName": "Yuliya Dabreha",
      "userId": "05622474096039686923"
     }
    }
   },
   "execution_count": 14,
   "outputs": []
  },
  {
   "cell_type": "code",
   "source": [
    "df = pd.read_excel(path, usecols=[0, 1], header=None)"
   ],
   "metadata": {
    "id": "lLf1mk-gnZcv",
    "executionInfo": {
     "status": "ok",
     "timestamp": 1743414742799,
     "user_tz": -120,
     "elapsed": 3479,
     "user": {
      "displayName": "Yuliya Dabreha",
      "userId": "05622474096039686923"
     }
    }
   },
   "execution_count": 18,
   "outputs": []
  },
  {
   "cell_type": "code",
   "source": [
    "print(df.shape)"
   ],
   "metadata": {
    "colab": {
     "base_uri": "https://localhost:8080/"
    },
    "id": "OaEeR2z3nGvF",
    "executionInfo": {
     "status": "ok",
     "timestamp": 1743414750715,
     "user_tz": -120,
     "elapsed": 15,
     "user": {
      "displayName": "Yuliya Dabreha",
      "userId": "05622474096039686923"
     }
    },
    "outputId": "fd96dad1-0a26-43ab-91b1-a613a160988f"
   },
   "execution_count": 20,
   "outputs": [
    {
     "output_type": "stream",
     "name": "stdout",
     "text": [
      "(3229, 2)\n"
     ]
    }
   ]
  },
  {
   "cell_type": "code",
   "source": [
    "df['text_lower'] = df[0].apply(lambda x: str(x).lower())\n",
    "df['label_lower'] = df[1].apply(lambda x: str(x).lower())"
   ],
   "metadata": {
    "id": "94hHnzSZqNiw",
    "executionInfo": {
     "status": "ok",
     "timestamp": 1743415655273,
     "user_tz": -120,
     "elapsed": 284,
     "user": {
      "displayName": "Yuliya Dabreha",
      "userId": "05622474096039686923"
     }
    }
   },
   "execution_count": 26,
   "outputs": []
  },
  {
   "cell_type": "code",
   "source": [
    "df.head()"
   ],
   "metadata": {
    "colab": {
     "base_uri": "https://localhost:8080/",
     "height": 224
    },
    "id": "i3r6GIirqynw",
    "executionInfo": {
     "status": "ok",
     "timestamp": 1743415667541,
     "user_tz": -120,
     "elapsed": 353,
     "user": {
      "displayName": "Yuliya Dabreha",
      "userId": "05622474096039686923"
     }
    },
    "outputId": "04ba9c49-6899-4bb5-83fd-73aa8481c224"
   },
   "execution_count": 27,
   "outputs": [
    {
     "output_type": "execute_result",
     "data": {
      "text/plain": [
       "                                                   0  1  \\\n",
       "0   Long time no see. Like always I was rewriting...  M   \n",
       "1   Guest Demo: Eric Iverson’s Itty Bitty Search\\...  M   \n",
       "2  Who moved my Cheese???   The world has been de...  M   \n",
       "3   Yesterday I attended a biweekly meeting of an...  M   \n",
       "4   Liam is nothing like Natalie. Natalie never w...  F   \n",
       "\n",
       "                                          text_lower label_lower  \n",
       "0   long time no see. like always i was rewriting...           m  \n",
       "1   guest demo: eric iverson’s itty bitty search\\...           m  \n",
       "2  who moved my cheese???   the world has been de...           m  \n",
       "3   yesterday i attended a biweekly meeting of an...           m  \n",
       "4   liam is nothing like natalie. natalie never w...           f  "
      ],
      "text/html": [
       "\n",
       "  <div id=\"df-a64cf078-5fbe-4a55-8d98-f2872b28c43a\" class=\"colab-df-container\">\n",
       "    <div>\n",
       "<style scoped>\n",
       "    .dataframe tbody tr th:only-of-type {\n",
       "        vertical-align: middle;\n",
       "    }\n",
       "\n",
       "    .dataframe tbody tr th {\n",
       "        vertical-align: top;\n",
       "    }\n",
       "\n",
       "    .dataframe thead th {\n",
       "        text-align: right;\n",
       "    }\n",
       "</style>\n",
       "<table border=\"1\" class=\"dataframe\">\n",
       "  <thead>\n",
       "    <tr style=\"text-align: right;\">\n",
       "      <th></th>\n",
       "      <th>0</th>\n",
       "      <th>1</th>\n",
       "      <th>text_lower</th>\n",
       "      <th>label_lower</th>\n",
       "    </tr>\n",
       "  </thead>\n",
       "  <tbody>\n",
       "    <tr>\n",
       "      <th>0</th>\n",
       "      <td>Long time no see. Like always I was rewriting...</td>\n",
       "      <td>M</td>\n",
       "      <td>long time no see. like always i was rewriting...</td>\n",
       "      <td>m</td>\n",
       "    </tr>\n",
       "    <tr>\n",
       "      <th>1</th>\n",
       "      <td>Guest Demo: Eric Iverson’s Itty Bitty Search\\...</td>\n",
       "      <td>M</td>\n",
       "      <td>guest demo: eric iverson’s itty bitty search\\...</td>\n",
       "      <td>m</td>\n",
       "    </tr>\n",
       "    <tr>\n",
       "      <th>2</th>\n",
       "      <td>Who moved my Cheese???   The world has been de...</td>\n",
       "      <td>M</td>\n",
       "      <td>who moved my cheese???   the world has been de...</td>\n",
       "      <td>m</td>\n",
       "    </tr>\n",
       "    <tr>\n",
       "      <th>3</th>\n",
       "      <td>Yesterday I attended a biweekly meeting of an...</td>\n",
       "      <td>M</td>\n",
       "      <td>yesterday i attended a biweekly meeting of an...</td>\n",
       "      <td>m</td>\n",
       "    </tr>\n",
       "    <tr>\n",
       "      <th>4</th>\n",
       "      <td>Liam is nothing like Natalie. Natalie never w...</td>\n",
       "      <td>F</td>\n",
       "      <td>liam is nothing like natalie. natalie never w...</td>\n",
       "      <td>f</td>\n",
       "    </tr>\n",
       "  </tbody>\n",
       "</table>\n",
       "</div>\n",
       "    <div class=\"colab-df-buttons\">\n",
       "\n",
       "  <div class=\"colab-df-container\">\n",
       "    <button class=\"colab-df-convert\" onclick=\"convertToInteractive('df-a64cf078-5fbe-4a55-8d98-f2872b28c43a')\"\n",
       "            title=\"Convert this dataframe to an interactive table.\"\n",
       "            style=\"display:none;\">\n",
       "\n",
       "  <svg xmlns=\"http://www.w3.org/2000/svg\" height=\"24px\" viewBox=\"0 -960 960 960\">\n",
       "    <path d=\"M120-120v-720h720v720H120Zm60-500h600v-160H180v160Zm220 220h160v-160H400v160Zm0 220h160v-160H400v160ZM180-400h160v-160H180v160Zm440 0h160v-160H620v160ZM180-180h160v-160H180v160Zm440 0h160v-160H620v160Z\"/>\n",
       "  </svg>\n",
       "    </button>\n",
       "\n",
       "  <style>\n",
       "    .colab-df-container {\n",
       "      display:flex;\n",
       "      gap: 12px;\n",
       "    }\n",
       "\n",
       "    .colab-df-convert {\n",
       "      background-color: #E8F0FE;\n",
       "      border: none;\n",
       "      border-radius: 50%;\n",
       "      cursor: pointer;\n",
       "      display: none;\n",
       "      fill: #1967D2;\n",
       "      height: 32px;\n",
       "      padding: 0 0 0 0;\n",
       "      width: 32px;\n",
       "    }\n",
       "\n",
       "    .colab-df-convert:hover {\n",
       "      background-color: #E2EBFA;\n",
       "      box-shadow: 0px 1px 2px rgba(60, 64, 67, 0.3), 0px 1px 3px 1px rgba(60, 64, 67, 0.15);\n",
       "      fill: #174EA6;\n",
       "    }\n",
       "\n",
       "    .colab-df-buttons div {\n",
       "      margin-bottom: 4px;\n",
       "    }\n",
       "\n",
       "    [theme=dark] .colab-df-convert {\n",
       "      background-color: #3B4455;\n",
       "      fill: #D2E3FC;\n",
       "    }\n",
       "\n",
       "    [theme=dark] .colab-df-convert:hover {\n",
       "      background-color: #434B5C;\n",
       "      box-shadow: 0px 1px 3px 1px rgba(0, 0, 0, 0.15);\n",
       "      filter: drop-shadow(0px 1px 2px rgba(0, 0, 0, 0.3));\n",
       "      fill: #FFFFFF;\n",
       "    }\n",
       "  </style>\n",
       "\n",
       "    <script>\n",
       "      const buttonEl =\n",
       "        document.querySelector('#df-a64cf078-5fbe-4a55-8d98-f2872b28c43a button.colab-df-convert');\n",
       "      buttonEl.style.display =\n",
       "        google.colab.kernel.accessAllowed ? 'block' : 'none';\n",
       "\n",
       "      async function convertToInteractive(key) {\n",
       "        const element = document.querySelector('#df-a64cf078-5fbe-4a55-8d98-f2872b28c43a');\n",
       "        const dataTable =\n",
       "          await google.colab.kernel.invokeFunction('convertToInteractive',\n",
       "                                                    [key], {});\n",
       "        if (!dataTable) return;\n",
       "\n",
       "        const docLinkHtml = 'Like what you see? Visit the ' +\n",
       "          '<a target=\"_blank\" href=https://colab.research.google.com/notebooks/data_table.ipynb>data table notebook</a>'\n",
       "          + ' to learn more about interactive tables.';\n",
       "        element.innerHTML = '';\n",
       "        dataTable['output_type'] = 'display_data';\n",
       "        await google.colab.output.renderOutput(dataTable, element);\n",
       "        const docLink = document.createElement('div');\n",
       "        docLink.innerHTML = docLinkHtml;\n",
       "        element.appendChild(docLink);\n",
       "      }\n",
       "    </script>\n",
       "  </div>\n",
       "\n",
       "\n",
       "<div id=\"df-5375ea08-97f7-4094-ab58-bfd3641be7c2\">\n",
       "  <button class=\"colab-df-quickchart\" onclick=\"quickchart('df-5375ea08-97f7-4094-ab58-bfd3641be7c2')\"\n",
       "            title=\"Suggest charts\"\n",
       "            style=\"display:none;\">\n",
       "\n",
       "<svg xmlns=\"http://www.w3.org/2000/svg\" height=\"24px\"viewBox=\"0 0 24 24\"\n",
       "     width=\"24px\">\n",
       "    <g>\n",
       "        <path d=\"M19 3H5c-1.1 0-2 .9-2 2v14c0 1.1.9 2 2 2h14c1.1 0 2-.9 2-2V5c0-1.1-.9-2-2-2zM9 17H7v-7h2v7zm4 0h-2V7h2v10zm4 0h-2v-4h2v4z\"/>\n",
       "    </g>\n",
       "</svg>\n",
       "  </button>\n",
       "\n",
       "<style>\n",
       "  .colab-df-quickchart {\n",
       "      --bg-color: #E8F0FE;\n",
       "      --fill-color: #1967D2;\n",
       "      --hover-bg-color: #E2EBFA;\n",
       "      --hover-fill-color: #174EA6;\n",
       "      --disabled-fill-color: #AAA;\n",
       "      --disabled-bg-color: #DDD;\n",
       "  }\n",
       "\n",
       "  [theme=dark] .colab-df-quickchart {\n",
       "      --bg-color: #3B4455;\n",
       "      --fill-color: #D2E3FC;\n",
       "      --hover-bg-color: #434B5C;\n",
       "      --hover-fill-color: #FFFFFF;\n",
       "      --disabled-bg-color: #3B4455;\n",
       "      --disabled-fill-color: #666;\n",
       "  }\n",
       "\n",
       "  .colab-df-quickchart {\n",
       "    background-color: var(--bg-color);\n",
       "    border: none;\n",
       "    border-radius: 50%;\n",
       "    cursor: pointer;\n",
       "    display: none;\n",
       "    fill: var(--fill-color);\n",
       "    height: 32px;\n",
       "    padding: 0;\n",
       "    width: 32px;\n",
       "  }\n",
       "\n",
       "  .colab-df-quickchart:hover {\n",
       "    background-color: var(--hover-bg-color);\n",
       "    box-shadow: 0 1px 2px rgba(60, 64, 67, 0.3), 0 1px 3px 1px rgba(60, 64, 67, 0.15);\n",
       "    fill: var(--button-hover-fill-color);\n",
       "  }\n",
       "\n",
       "  .colab-df-quickchart-complete:disabled,\n",
       "  .colab-df-quickchart-complete:disabled:hover {\n",
       "    background-color: var(--disabled-bg-color);\n",
       "    fill: var(--disabled-fill-color);\n",
       "    box-shadow: none;\n",
       "  }\n",
       "\n",
       "  .colab-df-spinner {\n",
       "    border: 2px solid var(--fill-color);\n",
       "    border-color: transparent;\n",
       "    border-bottom-color: var(--fill-color);\n",
       "    animation:\n",
       "      spin 1s steps(1) infinite;\n",
       "  }\n",
       "\n",
       "  @keyframes spin {\n",
       "    0% {\n",
       "      border-color: transparent;\n",
       "      border-bottom-color: var(--fill-color);\n",
       "      border-left-color: var(--fill-color);\n",
       "    }\n",
       "    20% {\n",
       "      border-color: transparent;\n",
       "      border-left-color: var(--fill-color);\n",
       "      border-top-color: var(--fill-color);\n",
       "    }\n",
       "    30% {\n",
       "      border-color: transparent;\n",
       "      border-left-color: var(--fill-color);\n",
       "      border-top-color: var(--fill-color);\n",
       "      border-right-color: var(--fill-color);\n",
       "    }\n",
       "    40% {\n",
       "      border-color: transparent;\n",
       "      border-right-color: var(--fill-color);\n",
       "      border-top-color: var(--fill-color);\n",
       "    }\n",
       "    60% {\n",
       "      border-color: transparent;\n",
       "      border-right-color: var(--fill-color);\n",
       "    }\n",
       "    80% {\n",
       "      border-color: transparent;\n",
       "      border-right-color: var(--fill-color);\n",
       "      border-bottom-color: var(--fill-color);\n",
       "    }\n",
       "    90% {\n",
       "      border-color: transparent;\n",
       "      border-bottom-color: var(--fill-color);\n",
       "    }\n",
       "  }\n",
       "</style>\n",
       "\n",
       "  <script>\n",
       "    async function quickchart(key) {\n",
       "      const quickchartButtonEl =\n",
       "        document.querySelector('#' + key + ' button');\n",
       "      quickchartButtonEl.disabled = true;  // To prevent multiple clicks.\n",
       "      quickchartButtonEl.classList.add('colab-df-spinner');\n",
       "      try {\n",
       "        const charts = await google.colab.kernel.invokeFunction(\n",
       "            'suggestCharts', [key], {});\n",
       "      } catch (error) {\n",
       "        console.error('Error during call to suggestCharts:', error);\n",
       "      }\n",
       "      quickchartButtonEl.classList.remove('colab-df-spinner');\n",
       "      quickchartButtonEl.classList.add('colab-df-quickchart-complete');\n",
       "    }\n",
       "    (() => {\n",
       "      let quickchartButtonEl =\n",
       "        document.querySelector('#df-5375ea08-97f7-4094-ab58-bfd3641be7c2 button');\n",
       "      quickchartButtonEl.style.display =\n",
       "        google.colab.kernel.accessAllowed ? 'block' : 'none';\n",
       "    })();\n",
       "  </script>\n",
       "</div>\n",
       "\n",
       "    </div>\n",
       "  </div>\n"
      ],
      "application/vnd.google.colaboratory.intrinsic+json": {
       "type": "dataframe",
       "variable_name": "df",
       "summary": "{\n  \"name\": \"df\",\n  \"rows\": 3229,\n  \"fields\": [\n    {\n      \"column\": 0,\n      \"properties\": {\n        \"dtype\": \"string\",\n        \"num_unique_values\": 3212,\n        \"samples\": [\n          \"If you allow yourself to be open to the struggles of humanity, it can sometimes be difficult to remain hopeful and positive. I try to educate myself on what is going on in the world. I try to remember that as I type away, in the comfort of my sitting room, with my A/C and chai latte, there are many things simultaneously occurring that are unfathomable and devastating. I try to remind myself daily of how blessed I am. I'm pretty good at remaining grateful. I can look at my family, friends and animals, and know that they are all a reflection of what is good in life. It might seem weird that I'm starting a post about the All-Star Game with the above paragraph, but honestly, my experience at the All-Star Game always invokes a feeling of gratitude. It is a reminder that, not only am I blessed to be given the opportunities bestowed upon me, but also that I am blessed to have been born into this country. Baseball is an escape for me. I get lost in it. Baseball is the coming together of unlike minds for a like purpose. Every moment before a pitch is thrown has its own pulse. Looking at a field and seeing all the greats in the game, in all their shapes and sizes--their different cultural backgrounds, history and cellular make up--is a reminder that anyone, from anywhere, can play the game of baseball. You don't have to be seven feet tall or seven feet wide. It is the Everyman's sport. Regardless of any controversy that surrounds baseball, this is what I think of when I look at all the greats on one field. I had a beautiful time in St. Louis. On Sunday, I did an autograph session at the stadium, where I got to meet some awesome people. \",\n          \"I didn't really have a good title to my post, so I decided to massacre the title of one of my favorite Star Wars books.\\nAs you may have noticed, it has been more than a month since my last post. I had some intentions of updating my blog shortly after I returned from school, but I have not gotten around to it until today. The last month of school did indeed go well. I gave all my reports and took all my tests. I got pretty good grades on the stuff that I did and now I am glad that I have to do no more of said assignments until the end of August. \\nThis past month I have been reading and playing video games. Pretty good summer so far. I know, in your mind you are saying, \\\"What, this bum hasn't yet gotten a job?\\\" To that I say, \\\"I'm too pretty to work!\\\" Well, actually, as y'all might have noticed, the job market is not extremely good right now. There is very little work in Pahrump, and even were a position to open up, it's tough because I know that there are a number of guys and gals in the church who need jobs to support families. If anything opens up, I'll probably let you know, but until then, it's helping out in the new building at the church and reading books.\\n\",\n          \"I figured while I was unemployed, I would try to do something useful. One thing I thought somebody might benefit from was a Facebook page that gives advice on finding a job. (Here's the link) Then I thought about the things going through my mind these days as I struggle to stay positive and engaged in the face of a job market that isn't exactly smiling upon those over 40. Finding a job in this economy is tough for anybody, but being over 40, you might start asking yourself things like, \\\"Do they think I'm too old to do this?\\\"\\nWell, listen, now you have a chance to prove to them that you are capable, talented, and right for the job. Some people develop a lot of negative self-talk and that negative attitude begins to show through on the surface. Not many employers can afford to hire someone who is late to work, can't spell, doesn't produce results, has so much drama in their life they aren't present at work, etc.\\nSo you're still in the game, old-timer!\\nI created the Over 40 Unemployed Facebook Fan page as a place where people (you don't have to be over 40 and unemployed) can share their experience, their strategies, their job search tips, and their success stories.\\n\\nI believe that in this economy, if you're over 40 and unemployed then all the more reason to work harder and work smarter. It's a chance to show how all those years of \\\"experience\\\" can benefit a potential employer.\\n\\nAnd here's the logo I created for the Over Forty and Unemployed Facebook page:\"\n        ],\n        \"semantic_type\": \"\",\n        \"description\": \"\"\n      }\n    },\n    {\n      \"column\": 1,\n      \"properties\": {\n        \"dtype\": \"category\",\n        \"num_unique_values\": 8,\n        \"samples\": [\n          \"F\",\n          \" M \",\n          \"M\"\n        ],\n        \"semantic_type\": \"\",\n        \"description\": \"\"\n      }\n    },\n    {\n      \"column\": \"text_lower\",\n      \"properties\": {\n        \"dtype\": \"string\",\n        \"num_unique_values\": 3213,\n        \"samples\": [\n          \"although kazakh, he addresses us in russian, confirming our worst fears. despite attempts to infiltrate this country's soviet-era bureaucratic system, we never registered our passports. ironically, it's only now we're leaving that this archaic system acquires a statuesque importance, and it's a \\\"big problem\\\". our entreaties in feeble russian for leniency fall on deaf ears. \\\"i speak to immigration police,\\\" comes the unyielding reply.\\n\\n\\\"surely there's a way we can resolve this now?\\\" central asian border posts are notoriously corrupt; here's an occasion when this could actually favour us. \\\"is there a fine we can pay?\\\"\\n\\nthe angular features vacate their utilitarian casing. \\\"wait here!\\\" we're left in the narrow passageway where foot traffic lurches between kazakhstan and kyrgyzstan, entrusted to a young, scrawny soldier who's eager to practise his english.\\n\\nthe three of us stand and wait, jostled amid the constant flow of leathery old women carting frail-looking wooden wheelbarrows of watermelons and jute. in the chaotic sea of cross-border traffic, we've become the flotsam of no-man's land.\\n\\nas the minutes, then hours, pass, we appeal to our chaperone's humane side, sharing cigarettes before tossing them into the open gulley running alongside us. we tell him where we're from, where we're going, how much we've loved kazakhstan.\\n\\n\\\"i think it's better for everyone if we resolve this problem here, no?\\\" i offer tentatively.\\n\\nyellow teeth grin. \\\"yes.\\\"\\n\\n\\\"perhaps your boss can help us?\\\"\\n\\n\\\"maybe. in kazakhstan it's very difficult.\\\" he's eager, but noncommittal.\\n\\neventually, the saturnine boss summons me into an office, warily looking over his shoulder. he calls in our protector, but insists my girlfriend stays outside. this is \\\"man stuff\\\".\\n\\npreliminary small-talk accompanies threats to deport us. i nod, indicating my appreciation of this grave situation, and try my luck again. \\\"but surely we can resolve this here?\\\"\\n\\nnervously glancing at the door, the boss shuffles his heavy frame in his inadequate chair. \\\"we can register your passports now. but you must pay big fine.\\\"\\n\\nbingo. \\\"how much?\\\"\\n\\nhe indicates that i should accompany his acolyte to a more secretive room. evidently, while it's ok for the chief to profit from a healthy bribe, it's not the done thing for him to participate in the negotiations. i follow my new friend into an even dustier office, littered with computer cadavers and paperwork from glasnost days.\\n\\n\\\"what currency?\\\" i whisper conspiratorially once we're alone, but i'm not quiet enough: \\\"dollars!\\\" bellows the boss \\u2013 he's listening through the door.\\n\\nmy friend opens the bidding at $100, i offer $20. we soon agree on $50. fortune is kind and i have the right note in my wallet \\u2013 getting change would be inconceivable.\\n\\n\\\"vam spa-seeba!\\\" stony features betray a machiavellian grin as i deposit the bill into his top drawer. minutes later, we're through. \",\n          \"third-pharmaceutical companies in the us subsidize the lower cost of research drugs for the rest of the world-especially those countries with universal coverage. us pharmaceutical companies do all the r&d and fda approval process-other countires are then allowed to buy from the pharmaceutical companies in bulk-increasing their residents savings. allow pharmecutical companies a percentage cap of profit for us citizens say 10%-thus forcing them to reap their profits from the other countries around the world. make other countries subsidize their share of the pharmecutical companies. once they pay their fair share-they may not be so quick to tout the benefits of universal coverage. \",\n          \"today, ordinary americans get a rare opportunity to weigh in on a life-and-death issue: who gets access to scarce, life-saving treatments during a disaster?\\n\\nthe public has been invited to participate in a teleconference (pdf) in which advisers to the centers for disease control and prevention will discuss ethical guidance they have drawn up for rationing mechanical ventilators in a severe influenza pandemic. (as we've reported, many states have been quietly laying plans for such a scenario. for example, florida has considered excluding certain patients from ventilators.) \\n\\nchances are, few people will phone in to join monday's meeting. cdc officials have not advertised the session outside of a notice published late in the federal register.\\n\\nbut you can join in. the hourlong conference takes place at 3 p.m. est and anyone can listen to the proceedings by calling (866) 919-3560 and entering passcode 4168828. according to the agenda, the committee is scheduled to vote on the guidance before it opens the meeting to public comments. the document will then go to the full advisory committee to the director of the cdc for approval.\"\n        ],\n        \"semantic_type\": \"\",\n        \"description\": \"\"\n      }\n    },\n    {\n      \"column\": \"label_lower\",\n      \"properties\": {\n        \"dtype\": \"category\",\n        \"num_unique_values\": 7,\n        \"samples\": [\n          \"m\",\n          \"f\",\n          \"f \"\n        ],\n        \"semantic_type\": \"\",\n        \"description\": \"\"\n      }\n    }\n  ]\n}"
      }
     },
     "metadata": {},
     "execution_count": 27
    }
   ]
  },
  {
   "cell_type": "code",
   "source": [
    "df['label_lower'].value_counts()"
   ],
   "metadata": {
    "colab": {
     "base_uri": "https://localhost:8080/",
     "height": 335
    },
    "id": "QFT4tKwQq-kz",
    "executionInfo": {
     "status": "ok",
     "timestamp": 1743415702058,
     "user_tz": -120,
     "elapsed": 12,
     "user": {
      "displayName": "Yuliya Dabreha",
      "userId": "05622474096039686923"
     }
    },
    "outputId": "e40080dc-a140-4861-911b-3984e6375950"
   },
   "execution_count": 28,
   "outputs": [
    {
     "output_type": "execute_result",
     "data": {
      "text/plain": [
       "label_lower\n",
       "m      1551\n",
       "f      1392\n",
       " f      153\n",
       " m      126\n",
       "nan       5\n",
       "f         1\n",
       " m        1\n",
       "Name: count, dtype: int64"
      ],
      "text/html": [
       "<div>\n",
       "<style scoped>\n",
       "    .dataframe tbody tr th:only-of-type {\n",
       "        vertical-align: middle;\n",
       "    }\n",
       "\n",
       "    .dataframe tbody tr th {\n",
       "        vertical-align: top;\n",
       "    }\n",
       "\n",
       "    .dataframe thead th {\n",
       "        text-align: right;\n",
       "    }\n",
       "</style>\n",
       "<table border=\"1\" class=\"dataframe\">\n",
       "  <thead>\n",
       "    <tr style=\"text-align: right;\">\n",
       "      <th></th>\n",
       "      <th>count</th>\n",
       "    </tr>\n",
       "    <tr>\n",
       "      <th>label_lower</th>\n",
       "      <th></th>\n",
       "    </tr>\n",
       "  </thead>\n",
       "  <tbody>\n",
       "    <tr>\n",
       "      <th>m</th>\n",
       "      <td>1551</td>\n",
       "    </tr>\n",
       "    <tr>\n",
       "      <th>f</th>\n",
       "      <td>1392</td>\n",
       "    </tr>\n",
       "    <tr>\n",
       "      <th>f</th>\n",
       "      <td>153</td>\n",
       "    </tr>\n",
       "    <tr>\n",
       "      <th>m</th>\n",
       "      <td>126</td>\n",
       "    </tr>\n",
       "    <tr>\n",
       "      <th>nan</th>\n",
       "      <td>5</td>\n",
       "    </tr>\n",
       "    <tr>\n",
       "      <th>f</th>\n",
       "      <td>1</td>\n",
       "    </tr>\n",
       "    <tr>\n",
       "      <th>m</th>\n",
       "      <td>1</td>\n",
       "    </tr>\n",
       "  </tbody>\n",
       "</table>\n",
       "</div><br><label><b>dtype:</b> int64</label>"
      ]
     },
     "metadata": {},
     "execution_count": 28
    }
   ]
  },
  {
   "cell_type": "code",
   "source": [
    "df['label_clean'] = df['label_lower'].str.strip()\n",
    "df['label_clean'] = df['label_clean'].replace('', pd.NA)"
   ],
   "metadata": {
    "id": "lqneM3HJrHFc",
    "executionInfo": {
     "status": "ok",
     "timestamp": 1743415817157,
     "user_tz": -120,
     "elapsed": 12,
     "user": {
      "displayName": "Yuliya Dabreha",
      "userId": "05622474096039686923"
     }
    }
   },
   "execution_count": 31,
   "outputs": []
  },
  {
   "cell_type": "code",
   "source": [
    "df['label_clean'].value_counts()"
   ],
   "metadata": {
    "colab": {
     "base_uri": "https://localhost:8080/",
     "height": 210
    },
    "id": "h_hWdKgIrc-3",
    "executionInfo": {
     "status": "ok",
     "timestamp": 1743415818061,
     "user_tz": -120,
     "elapsed": 17,
     "user": {
      "displayName": "Yuliya Dabreha",
      "userId": "05622474096039686923"
     }
    },
    "outputId": "25851356-7f29-40f1-fef8-5f35bdc348e4"
   },
   "execution_count": 32,
   "outputs": [
    {
     "output_type": "execute_result",
     "data": {
      "text/plain": [
       "label_clean\n",
       "m      1678\n",
       "f      1546\n",
       "nan       5\n",
       "Name: count, dtype: int64"
      ],
      "text/html": [
       "<div>\n",
       "<style scoped>\n",
       "    .dataframe tbody tr th:only-of-type {\n",
       "        vertical-align: middle;\n",
       "    }\n",
       "\n",
       "    .dataframe tbody tr th {\n",
       "        vertical-align: top;\n",
       "    }\n",
       "\n",
       "    .dataframe thead th {\n",
       "        text-align: right;\n",
       "    }\n",
       "</style>\n",
       "<table border=\"1\" class=\"dataframe\">\n",
       "  <thead>\n",
       "    <tr style=\"text-align: right;\">\n",
       "      <th></th>\n",
       "      <th>count</th>\n",
       "    </tr>\n",
       "    <tr>\n",
       "      <th>label_clean</th>\n",
       "      <th></th>\n",
       "    </tr>\n",
       "  </thead>\n",
       "  <tbody>\n",
       "    <tr>\n",
       "      <th>m</th>\n",
       "      <td>1678</td>\n",
       "    </tr>\n",
       "    <tr>\n",
       "      <th>f</th>\n",
       "      <td>1546</td>\n",
       "    </tr>\n",
       "    <tr>\n",
       "      <th>nan</th>\n",
       "      <td>5</td>\n",
       "    </tr>\n",
       "  </tbody>\n",
       "</table>\n",
       "</div><br><label><b>dtype:</b> int64</label>"
      ]
     },
     "metadata": {},
     "execution_count": 32
    }
   ]
  },
  {
   "cell_type": "code",
   "source": [
    "df = df.dropna(subset=['label_clean'])\n",
    "df = df.dropna(subset=['text_lower'])"
   ],
   "metadata": {
    "id": "4V9l3R7vrey2",
    "executionInfo": {
     "status": "ok",
     "timestamp": 1743415947002,
     "user_tz": -120,
     "elapsed": 42,
     "user": {
      "displayName": "Yuliya Dabreha",
      "userId": "05622474096039686923"
     }
    }
   },
   "execution_count": 34,
   "outputs": []
  },
  {
   "cell_type": "code",
   "source": [
    "import re\n",
    "def tokenization(text):\n",
    "    tokens = re.split('\\W+',text)\n",
    "    return tokens\n",
    "df['text_tokenized'] = df['text_lower'].apply(tokenization)"
   ],
   "metadata": {
    "id": "y6YBh-vsr60r",
    "executionInfo": {
     "status": "ok",
     "timestamp": 1743417879420,
     "user_tz": -120,
     "elapsed": 695,
     "user": {
      "displayName": "Yuliya Dabreha",
      "userId": "05622474096039686923"
     }
    }
   },
   "execution_count": 52,
   "outputs": []
  },
  {
   "cell_type": "code",
   "source": [
    "import nltk\n",
    "nltk.download('stopwords')\n",
    "stopwords = nltk.corpus.stopwords.words('english')\n",
    "\n",
    "def remove_stopwords(text):\n",
    "    output= [i for i in text if i not in stopwords]\n",
    "    return output\n",
    "\n",
    "df['text_no_stopwords'] = df['text_tokenized'].apply(remove_stopwords)"
   ],
   "metadata": {
    "colab": {
     "base_uri": "https://localhost:8080/"
    },
    "id": "0XN_XOhYt5SE",
    "executionInfo": {
     "status": "ok",
     "timestamp": 1743417926963,
     "user_tz": -120,
     "elapsed": 4352,
     "user": {
      "displayName": "Yuliya Dabreha",
      "userId": "05622474096039686923"
     }
    },
    "outputId": "b952dbf9-c949-4e01-fc2f-489b3afd6029"
   },
   "execution_count": 53,
   "outputs": [
    {
     "output_type": "stream",
     "name": "stderr",
     "text": [
      "[nltk_data] Downloading package stopwords to /root/nltk_data...\n",
      "[nltk_data]   Package stopwords is already up-to-date!\n"
     ]
    }
   ]
  },
  {
   "cell_type": "code",
   "source": [
    "from nltk.stem.porter import PorterStemmer\n",
    "porter_stemmer = PorterStemmer()\n",
    "\n",
    "def stemming(text):\n",
    "  stem_text = [porter_stemmer.stem(word) for word in text]\n",
    "  return stem_text\n",
    "\n",
    "df['text_stemmed'] = df['text_no_stopwords'].apply(stemming)"
   ],
   "metadata": {
    "id": "0ycpLHMmuXzh",
    "executionInfo": {
     "status": "ok",
     "timestamp": 1743417956799,
     "user_tz": -120,
     "elapsed": 13663,
     "user": {
      "displayName": "Yuliya Dabreha",
      "userId": "05622474096039686923"
     }
    }
   },
   "execution_count": 54,
   "outputs": []
  },
  {
   "cell_type": "code",
   "source": [
    "import nltk\n",
    "nltk.download('wordnet')\n",
    "from nltk.stem import WordNetLemmatizer\n",
    "wordnet_lemmatizer = WordNetLemmatizer()\n",
    "\n",
    "def lemmatizer(text):\n",
    "  lemm_text = [wordnet_lemmatizer.lemmatize(word) for word in text]\n",
    "  return lemm_text\n",
    "\n",
    "df['text_lemmatized'] = df['text_stemmed'].apply(lemmatizer)"
   ],
   "metadata": {
    "colab": {
     "base_uri": "https://localhost:8080/"
    },
    "id": "5QcFVZ2MvyQ5",
    "executionInfo": {
     "status": "ok",
     "timestamp": 1743417985978,
     "user_tz": -120,
     "elapsed": 3006,
     "user": {
      "displayName": "Yuliya Dabreha",
      "userId": "05622474096039686923"
     }
    },
    "outputId": "9c2de101-eb43-4289-ede6-5ec44995bbda"
   },
   "execution_count": 55,
   "outputs": [
    {
     "output_type": "stream",
     "name": "stderr",
     "text": [
      "[nltk_data] Downloading package wordnet to /root/nltk_data...\n",
      "[nltk_data]   Package wordnet is already up-to-date!\n"
     ]
    }
   ]
  },
  {
   "cell_type": "code",
   "source": [
    "df['text_processed'] = df['text_lemmatized'].apply(' '.join)"
   ],
   "metadata": {
    "id": "nafpsR1mz1fm",
    "executionInfo": {
     "status": "ok",
     "timestamp": 1743418002611,
     "user_tz": -120,
     "elapsed": 31,
     "user": {
      "displayName": "Yuliya Dabreha",
      "userId": "05622474096039686923"
     }
    }
   },
   "execution_count": 56,
   "outputs": []
  },
  {
   "cell_type": "code",
   "source": [
    "documents = df['text_processed'].tolist()\n",
    "tags = df['label_clean'].tolist()"
   ],
   "metadata": {
    "id": "KGZvMwkKwtLv",
    "executionInfo": {
     "status": "ok",
     "timestamp": 1743418020547,
     "user_tz": -120,
     "elapsed": 11,
     "user": {
      "displayName": "Yuliya Dabreha",
      "userId": "05622474096039686923"
     }
    }
   },
   "execution_count": 57,
   "outputs": []
  },
  {
   "cell_type": "code",
   "source": [
    "from sklearn.feature_extraction.text import TfidfVectorizer\n",
    "vectorizer = TfidfVectorizer()\n",
    "X = vectorizer.fit_transform(documents)"
   ],
   "metadata": {
    "id": "UNWBZ8R0wFG7",
    "executionInfo": {
     "status": "ok",
     "timestamp": 1743418056869,
     "user_tz": -120,
     "elapsed": 634,
     "user": {
      "displayName": "Yuliya Dabreha",
      "userId": "05622474096039686923"
     }
    }
   },
   "execution_count": 59,
   "outputs": []
  },
  {
   "cell_type": "code",
   "source": [
    "model = svm.SVC()\n",
    "model.fit(X, tags)"
   ],
   "metadata": {
    "colab": {
     "base_uri": "https://localhost:8080/",
     "height": 80
    },
    "id": "HPQBIRBywbIo",
    "executionInfo": {
     "status": "ok",
     "timestamp": 1743418075496,
     "user_tz": -120,
     "elapsed": 14855,
     "user": {
      "displayName": "Yuliya Dabreha",
      "userId": "05622474096039686923"
     }
    },
    "outputId": "aa4915c8-d34f-4f7c-c8e5-91811946a6a9"
   },
   "execution_count": 60,
   "outputs": [
    {
     "output_type": "execute_result",
     "data": {
      "text/plain": [
       "SVC()"
      ],
      "text/html": [
       "<style>#sk-container-id-2 {\n",
       "  /* Definition of color scheme common for light and dark mode */\n",
       "  --sklearn-color-text: #000;\n",
       "  --sklearn-color-text-muted: #666;\n",
       "  --sklearn-color-line: gray;\n",
       "  /* Definition of color scheme for unfitted estimators */\n",
       "  --sklearn-color-unfitted-level-0: #fff5e6;\n",
       "  --sklearn-color-unfitted-level-1: #f6e4d2;\n",
       "  --sklearn-color-unfitted-level-2: #ffe0b3;\n",
       "  --sklearn-color-unfitted-level-3: chocolate;\n",
       "  /* Definition of color scheme for fitted estimators */\n",
       "  --sklearn-color-fitted-level-0: #f0f8ff;\n",
       "  --sklearn-color-fitted-level-1: #d4ebff;\n",
       "  --sklearn-color-fitted-level-2: #b3dbfd;\n",
       "  --sklearn-color-fitted-level-3: cornflowerblue;\n",
       "\n",
       "  /* Specific color for light theme */\n",
       "  --sklearn-color-text-on-default-background: var(--sg-text-color, var(--theme-code-foreground, var(--jp-content-font-color1, black)));\n",
       "  --sklearn-color-background: var(--sg-background-color, var(--theme-background, var(--jp-layout-color0, white)));\n",
       "  --sklearn-color-border-box: var(--sg-text-color, var(--theme-code-foreground, var(--jp-content-font-color1, black)));\n",
       "  --sklearn-color-icon: #696969;\n",
       "\n",
       "  @media (prefers-color-scheme: dark) {\n",
       "    /* Redefinition of color scheme for dark theme */\n",
       "    --sklearn-color-text-on-default-background: var(--sg-text-color, var(--theme-code-foreground, var(--jp-content-font-color1, white)));\n",
       "    --sklearn-color-background: var(--sg-background-color, var(--theme-background, var(--jp-layout-color0, #111)));\n",
       "    --sklearn-color-border-box: var(--sg-text-color, var(--theme-code-foreground, var(--jp-content-font-color1, white)));\n",
       "    --sklearn-color-icon: #878787;\n",
       "  }\n",
       "}\n",
       "\n",
       "#sk-container-id-2 {\n",
       "  color: var(--sklearn-color-text);\n",
       "}\n",
       "\n",
       "#sk-container-id-2 pre {\n",
       "  padding: 0;\n",
       "}\n",
       "\n",
       "#sk-container-id-2 input.sk-hidden--visually {\n",
       "  border: 0;\n",
       "  clip: rect(1px 1px 1px 1px);\n",
       "  clip: rect(1px, 1px, 1px, 1px);\n",
       "  height: 1px;\n",
       "  margin: -1px;\n",
       "  overflow: hidden;\n",
       "  padding: 0;\n",
       "  position: absolute;\n",
       "  width: 1px;\n",
       "}\n",
       "\n",
       "#sk-container-id-2 div.sk-dashed-wrapped {\n",
       "  border: 1px dashed var(--sklearn-color-line);\n",
       "  margin: 0 0.4em 0.5em 0.4em;\n",
       "  box-sizing: border-box;\n",
       "  padding-bottom: 0.4em;\n",
       "  background-color: var(--sklearn-color-background);\n",
       "}\n",
       "\n",
       "#sk-container-id-2 div.sk-container {\n",
       "  /* jupyter's `normalize.less` sets `[hidden] { display: none; }`\n",
       "     but bootstrap.min.css set `[hidden] { display: none !important; }`\n",
       "     so we also need the `!important` here to be able to override the\n",
       "     default hidden behavior on the sphinx rendered scikit-learn.org.\n",
       "     See: https://github.com/scikit-learn/scikit-learn/issues/21755 */\n",
       "  display: inline-block !important;\n",
       "  position: relative;\n",
       "}\n",
       "\n",
       "#sk-container-id-2 div.sk-text-repr-fallback {\n",
       "  display: none;\n",
       "}\n",
       "\n",
       "div.sk-parallel-item,\n",
       "div.sk-serial,\n",
       "div.sk-item {\n",
       "  /* draw centered vertical line to link estimators */\n",
       "  background-image: linear-gradient(var(--sklearn-color-text-on-default-background), var(--sklearn-color-text-on-default-background));\n",
       "  background-size: 2px 100%;\n",
       "  background-repeat: no-repeat;\n",
       "  background-position: center center;\n",
       "}\n",
       "\n",
       "/* Parallel-specific style estimator block */\n",
       "\n",
       "#sk-container-id-2 div.sk-parallel-item::after {\n",
       "  content: \"\";\n",
       "  width: 100%;\n",
       "  border-bottom: 2px solid var(--sklearn-color-text-on-default-background);\n",
       "  flex-grow: 1;\n",
       "}\n",
       "\n",
       "#sk-container-id-2 div.sk-parallel {\n",
       "  display: flex;\n",
       "  align-items: stretch;\n",
       "  justify-content: center;\n",
       "  background-color: var(--sklearn-color-background);\n",
       "  position: relative;\n",
       "}\n",
       "\n",
       "#sk-container-id-2 div.sk-parallel-item {\n",
       "  display: flex;\n",
       "  flex-direction: column;\n",
       "}\n",
       "\n",
       "#sk-container-id-2 div.sk-parallel-item:first-child::after {\n",
       "  align-self: flex-end;\n",
       "  width: 50%;\n",
       "}\n",
       "\n",
       "#sk-container-id-2 div.sk-parallel-item:last-child::after {\n",
       "  align-self: flex-start;\n",
       "  width: 50%;\n",
       "}\n",
       "\n",
       "#sk-container-id-2 div.sk-parallel-item:only-child::after {\n",
       "  width: 0;\n",
       "}\n",
       "\n",
       "/* Serial-specific style estimator block */\n",
       "\n",
       "#sk-container-id-2 div.sk-serial {\n",
       "  display: flex;\n",
       "  flex-direction: column;\n",
       "  align-items: center;\n",
       "  background-color: var(--sklearn-color-background);\n",
       "  padding-right: 1em;\n",
       "  padding-left: 1em;\n",
       "}\n",
       "\n",
       "\n",
       "/* Toggleable style: style used for estimator/Pipeline/ColumnTransformer box that is\n",
       "clickable and can be expanded/collapsed.\n",
       "- Pipeline and ColumnTransformer use this feature and define the default style\n",
       "- Estimators will overwrite some part of the style using the `sk-estimator` class\n",
       "*/\n",
       "\n",
       "/* Pipeline and ColumnTransformer style (default) */\n",
       "\n",
       "#sk-container-id-2 div.sk-toggleable {\n",
       "  /* Default theme specific background. It is overwritten whether we have a\n",
       "  specific estimator or a Pipeline/ColumnTransformer */\n",
       "  background-color: var(--sklearn-color-background);\n",
       "}\n",
       "\n",
       "/* Toggleable label */\n",
       "#sk-container-id-2 label.sk-toggleable__label {\n",
       "  cursor: pointer;\n",
       "  display: flex;\n",
       "  width: 100%;\n",
       "  margin-bottom: 0;\n",
       "  padding: 0.5em;\n",
       "  box-sizing: border-box;\n",
       "  text-align: center;\n",
       "  align-items: start;\n",
       "  justify-content: space-between;\n",
       "  gap: 0.5em;\n",
       "}\n",
       "\n",
       "#sk-container-id-2 label.sk-toggleable__label .caption {\n",
       "  font-size: 0.6rem;\n",
       "  font-weight: lighter;\n",
       "  color: var(--sklearn-color-text-muted);\n",
       "}\n",
       "\n",
       "#sk-container-id-2 label.sk-toggleable__label-arrow:before {\n",
       "  /* Arrow on the left of the label */\n",
       "  content: \"▸\";\n",
       "  float: left;\n",
       "  margin-right: 0.25em;\n",
       "  color: var(--sklearn-color-icon);\n",
       "}\n",
       "\n",
       "#sk-container-id-2 label.sk-toggleable__label-arrow:hover:before {\n",
       "  color: var(--sklearn-color-text);\n",
       "}\n",
       "\n",
       "/* Toggleable content - dropdown */\n",
       "\n",
       "#sk-container-id-2 div.sk-toggleable__content {\n",
       "  max-height: 0;\n",
       "  max-width: 0;\n",
       "  overflow: hidden;\n",
       "  text-align: left;\n",
       "  /* unfitted */\n",
       "  background-color: var(--sklearn-color-unfitted-level-0);\n",
       "}\n",
       "\n",
       "#sk-container-id-2 div.sk-toggleable__content.fitted {\n",
       "  /* fitted */\n",
       "  background-color: var(--sklearn-color-fitted-level-0);\n",
       "}\n",
       "\n",
       "#sk-container-id-2 div.sk-toggleable__content pre {\n",
       "  margin: 0.2em;\n",
       "  border-radius: 0.25em;\n",
       "  color: var(--sklearn-color-text);\n",
       "  /* unfitted */\n",
       "  background-color: var(--sklearn-color-unfitted-level-0);\n",
       "}\n",
       "\n",
       "#sk-container-id-2 div.sk-toggleable__content.fitted pre {\n",
       "  /* unfitted */\n",
       "  background-color: var(--sklearn-color-fitted-level-0);\n",
       "}\n",
       "\n",
       "#sk-container-id-2 input.sk-toggleable__control:checked~div.sk-toggleable__content {\n",
       "  /* Expand drop-down */\n",
       "  max-height: 200px;\n",
       "  max-width: 100%;\n",
       "  overflow: auto;\n",
       "}\n",
       "\n",
       "#sk-container-id-2 input.sk-toggleable__control:checked~label.sk-toggleable__label-arrow:before {\n",
       "  content: \"▾\";\n",
       "}\n",
       "\n",
       "/* Pipeline/ColumnTransformer-specific style */\n",
       "\n",
       "#sk-container-id-2 div.sk-label input.sk-toggleable__control:checked~label.sk-toggleable__label {\n",
       "  color: var(--sklearn-color-text);\n",
       "  background-color: var(--sklearn-color-unfitted-level-2);\n",
       "}\n",
       "\n",
       "#sk-container-id-2 div.sk-label.fitted input.sk-toggleable__control:checked~label.sk-toggleable__label {\n",
       "  background-color: var(--sklearn-color-fitted-level-2);\n",
       "}\n",
       "\n",
       "/* Estimator-specific style */\n",
       "\n",
       "/* Colorize estimator box */\n",
       "#sk-container-id-2 div.sk-estimator input.sk-toggleable__control:checked~label.sk-toggleable__label {\n",
       "  /* unfitted */\n",
       "  background-color: var(--sklearn-color-unfitted-level-2);\n",
       "}\n",
       "\n",
       "#sk-container-id-2 div.sk-estimator.fitted input.sk-toggleable__control:checked~label.sk-toggleable__label {\n",
       "  /* fitted */\n",
       "  background-color: var(--sklearn-color-fitted-level-2);\n",
       "}\n",
       "\n",
       "#sk-container-id-2 div.sk-label label.sk-toggleable__label,\n",
       "#sk-container-id-2 div.sk-label label {\n",
       "  /* The background is the default theme color */\n",
       "  color: var(--sklearn-color-text-on-default-background);\n",
       "}\n",
       "\n",
       "/* On hover, darken the color of the background */\n",
       "#sk-container-id-2 div.sk-label:hover label.sk-toggleable__label {\n",
       "  color: var(--sklearn-color-text);\n",
       "  background-color: var(--sklearn-color-unfitted-level-2);\n",
       "}\n",
       "\n",
       "/* Label box, darken color on hover, fitted */\n",
       "#sk-container-id-2 div.sk-label.fitted:hover label.sk-toggleable__label.fitted {\n",
       "  color: var(--sklearn-color-text);\n",
       "  background-color: var(--sklearn-color-fitted-level-2);\n",
       "}\n",
       "\n",
       "/* Estimator label */\n",
       "\n",
       "#sk-container-id-2 div.sk-label label {\n",
       "  font-family: monospace;\n",
       "  font-weight: bold;\n",
       "  display: inline-block;\n",
       "  line-height: 1.2em;\n",
       "}\n",
       "\n",
       "#sk-container-id-2 div.sk-label-container {\n",
       "  text-align: center;\n",
       "}\n",
       "\n",
       "/* Estimator-specific */\n",
       "#sk-container-id-2 div.sk-estimator {\n",
       "  font-family: monospace;\n",
       "  border: 1px dotted var(--sklearn-color-border-box);\n",
       "  border-radius: 0.25em;\n",
       "  box-sizing: border-box;\n",
       "  margin-bottom: 0.5em;\n",
       "  /* unfitted */\n",
       "  background-color: var(--sklearn-color-unfitted-level-0);\n",
       "}\n",
       "\n",
       "#sk-container-id-2 div.sk-estimator.fitted {\n",
       "  /* fitted */\n",
       "  background-color: var(--sklearn-color-fitted-level-0);\n",
       "}\n",
       "\n",
       "/* on hover */\n",
       "#sk-container-id-2 div.sk-estimator:hover {\n",
       "  /* unfitted */\n",
       "  background-color: var(--sklearn-color-unfitted-level-2);\n",
       "}\n",
       "\n",
       "#sk-container-id-2 div.sk-estimator.fitted:hover {\n",
       "  /* fitted */\n",
       "  background-color: var(--sklearn-color-fitted-level-2);\n",
       "}\n",
       "\n",
       "/* Specification for estimator info (e.g. \"i\" and \"?\") */\n",
       "\n",
       "/* Common style for \"i\" and \"?\" */\n",
       "\n",
       ".sk-estimator-doc-link,\n",
       "a:link.sk-estimator-doc-link,\n",
       "a:visited.sk-estimator-doc-link {\n",
       "  float: right;\n",
       "  font-size: smaller;\n",
       "  line-height: 1em;\n",
       "  font-family: monospace;\n",
       "  background-color: var(--sklearn-color-background);\n",
       "  border-radius: 1em;\n",
       "  height: 1em;\n",
       "  width: 1em;\n",
       "  text-decoration: none !important;\n",
       "  margin-left: 0.5em;\n",
       "  text-align: center;\n",
       "  /* unfitted */\n",
       "  border: var(--sklearn-color-unfitted-level-1) 1pt solid;\n",
       "  color: var(--sklearn-color-unfitted-level-1);\n",
       "}\n",
       "\n",
       ".sk-estimator-doc-link.fitted,\n",
       "a:link.sk-estimator-doc-link.fitted,\n",
       "a:visited.sk-estimator-doc-link.fitted {\n",
       "  /* fitted */\n",
       "  border: var(--sklearn-color-fitted-level-1) 1pt solid;\n",
       "  color: var(--sklearn-color-fitted-level-1);\n",
       "}\n",
       "\n",
       "/* On hover */\n",
       "div.sk-estimator:hover .sk-estimator-doc-link:hover,\n",
       ".sk-estimator-doc-link:hover,\n",
       "div.sk-label-container:hover .sk-estimator-doc-link:hover,\n",
       ".sk-estimator-doc-link:hover {\n",
       "  /* unfitted */\n",
       "  background-color: var(--sklearn-color-unfitted-level-3);\n",
       "  color: var(--sklearn-color-background);\n",
       "  text-decoration: none;\n",
       "}\n",
       "\n",
       "div.sk-estimator.fitted:hover .sk-estimator-doc-link.fitted:hover,\n",
       ".sk-estimator-doc-link.fitted:hover,\n",
       "div.sk-label-container:hover .sk-estimator-doc-link.fitted:hover,\n",
       ".sk-estimator-doc-link.fitted:hover {\n",
       "  /* fitted */\n",
       "  background-color: var(--sklearn-color-fitted-level-3);\n",
       "  color: var(--sklearn-color-background);\n",
       "  text-decoration: none;\n",
       "}\n",
       "\n",
       "/* Span, style for the box shown on hovering the info icon */\n",
       ".sk-estimator-doc-link span {\n",
       "  display: none;\n",
       "  z-index: 9999;\n",
       "  position: relative;\n",
       "  font-weight: normal;\n",
       "  right: .2ex;\n",
       "  padding: .5ex;\n",
       "  margin: .5ex;\n",
       "  width: min-content;\n",
       "  min-width: 20ex;\n",
       "  max-width: 50ex;\n",
       "  color: var(--sklearn-color-text);\n",
       "  box-shadow: 2pt 2pt 4pt #999;\n",
       "  /* unfitted */\n",
       "  background: var(--sklearn-color-unfitted-level-0);\n",
       "  border: .5pt solid var(--sklearn-color-unfitted-level-3);\n",
       "}\n",
       "\n",
       ".sk-estimator-doc-link.fitted span {\n",
       "  /* fitted */\n",
       "  background: var(--sklearn-color-fitted-level-0);\n",
       "  border: var(--sklearn-color-fitted-level-3);\n",
       "}\n",
       "\n",
       ".sk-estimator-doc-link:hover span {\n",
       "  display: block;\n",
       "}\n",
       "\n",
       "/* \"?\"-specific style due to the `<a>` HTML tag */\n",
       "\n",
       "#sk-container-id-2 a.estimator_doc_link {\n",
       "  float: right;\n",
       "  font-size: 1rem;\n",
       "  line-height: 1em;\n",
       "  font-family: monospace;\n",
       "  background-color: var(--sklearn-color-background);\n",
       "  border-radius: 1rem;\n",
       "  height: 1rem;\n",
       "  width: 1rem;\n",
       "  text-decoration: none;\n",
       "  /* unfitted */\n",
       "  color: var(--sklearn-color-unfitted-level-1);\n",
       "  border: var(--sklearn-color-unfitted-level-1) 1pt solid;\n",
       "}\n",
       "\n",
       "#sk-container-id-2 a.estimator_doc_link.fitted {\n",
       "  /* fitted */\n",
       "  border: var(--sklearn-color-fitted-level-1) 1pt solid;\n",
       "  color: var(--sklearn-color-fitted-level-1);\n",
       "}\n",
       "\n",
       "/* On hover */\n",
       "#sk-container-id-2 a.estimator_doc_link:hover {\n",
       "  /* unfitted */\n",
       "  background-color: var(--sklearn-color-unfitted-level-3);\n",
       "  color: var(--sklearn-color-background);\n",
       "  text-decoration: none;\n",
       "}\n",
       "\n",
       "#sk-container-id-2 a.estimator_doc_link.fitted:hover {\n",
       "  /* fitted */\n",
       "  background-color: var(--sklearn-color-fitted-level-3);\n",
       "}\n",
       "</style><div id=\"sk-container-id-2\" class=\"sk-top-container\"><div class=\"sk-text-repr-fallback\"><pre>SVC()</pre><b>In a Jupyter environment, please rerun this cell to show the HTML representation or trust the notebook. <br />On GitHub, the HTML representation is unable to render, please try loading this page with nbviewer.org.</b></div><div class=\"sk-container\" hidden><div class=\"sk-item\"><div class=\"sk-estimator fitted sk-toggleable\"><input class=\"sk-toggleable__control sk-hidden--visually\" id=\"sk-estimator-id-2\" type=\"checkbox\" checked><label for=\"sk-estimator-id-2\" class=\"sk-toggleable__label fitted sk-toggleable__label-arrow\"><div><div>SVC</div></div><div><a class=\"sk-estimator-doc-link fitted\" rel=\"noreferrer\" target=\"_blank\" href=\"https://scikit-learn.org/1.6/modules/generated/sklearn.svm.SVC.html\">?<span>Documentation for SVC</span></a><span class=\"sk-estimator-doc-link fitted\">i<span>Fitted</span></span></div></label><div class=\"sk-toggleable__content fitted\"><pre>SVC()</pre></div> </div></div></div></div>"
      ]
     },
     "metadata": {},
     "execution_count": 60
    }
   ]
  },
  {
   "cell_type": "code",
   "source": [
    "text = [\"My chrome browser to open.\"]\n",
    "Y = vectorizer.transform(text)\n",
    "prediction = model.predict(Y)\n",
    "print(text, prediction)\n",
    "text = [\"Drago's cat is cute.\"]\n",
    "Y = vectorizer.transform(text)\n",
    "prediction = model.predict(Y)\n",
    "print(text, prediction)"
   ],
   "metadata": {
    "id": "Gp1GERudwbF7"
   },
   "execution_count": null,
   "outputs": []
  },
  {
   "cell_type": "markdown",
   "source": [
    "### Prediction of lables"
   ],
   "metadata": {
    "id": "h1QbyunT1L3W"
   }
  },
  {
   "cell_type": "code",
   "source": [
    "file_paths = [\n",
    "    '/content/drive/MyDrive/NLP/gender/predic_gender1.txt',\n",
    "    '/content/drive/MyDrive/NLP/gender/predic_gender2.txt',\n",
    "    '/content/drive/MyDrive/NLP/gender/predic_gender3.txt'\n",
    "]"
   ],
   "metadata": {
    "id": "6pJEPqQtwbCp",
    "executionInfo": {
     "status": "ok",
     "timestamp": 1743418784485,
     "user_tz": -120,
     "elapsed": 18,
     "user": {
      "displayName": "Yuliya Dabreha",
      "userId": "05622474096039686923"
     }
    }
   },
   "execution_count": 68,
   "outputs": []
  },
  {
   "cell_type": "code",
   "source": [
    "import nltk\n",
    "nltk.download('stopwords')\n",
    "from nltk.corpus import stopwords\n",
    "\n",
    "def preprocess_text(text):\n",
    "    tokens = re.findall(r'\\w+', text.lower())\n",
    "    stop_words = set(stopwords.words('english'))\n",
    "    tokens = [word for word in tokens if word not in stop_words]\n",
    "    lemmatizer = WordNetLemmatizer()\n",
    "    tokens = [lemmatizer.lemmatize(word) for word in tokens]\n",
    "    return ' '.join(tokens)"
   ],
   "metadata": {
    "colab": {
     "base_uri": "https://localhost:8080/"
    },
    "id": "yLrzWGof1qmI",
    "executionInfo": {
     "status": "ok",
     "timestamp": 1743419098900,
     "user_tz": -120,
     "elapsed": 49,
     "user": {
      "displayName": "Yuliya Dabreha",
      "userId": "05622474096039686923"
     }
    },
    "outputId": "bf1df59e-02ac-4b52-bf13-2b4a20c6e155"
   },
   "execution_count": 74,
   "outputs": [
    {
     "output_type": "stream",
     "name": "stderr",
     "text": [
      "[nltk_data] Downloading package stopwords to /root/nltk_data...\n",
      "[nltk_data]   Package stopwords is already up-to-date!\n"
     ]
    }
   ]
  },
  {
   "cell_type": "code",
   "source": [
    "import builtins\n",
    "import os\n",
    "results = []\n",
    "for file_path in file_paths:\n",
    "    with builtins.open(file_path, 'r') as f:\n",
    "      text = f.read()\n",
    "\n",
    "    processed_text = preprocess_text(text)\n",
    "\n",
    "    # Y = vectorizer.transform([processed_text])\n",
    "    # prediction = model.predict(Y)\n",
    "    # print(file_path, prediction)\n",
    "    X = vectorizer.transform([processed_text])\n",
    "\n",
    "    prediction = model.predict(X)\n",
    "\n",
    "    results.append({\n",
    "      'file': os.path.basename(file_path),\n",
    "      'prediction': prediction\n",
    "    })"
   ],
   "metadata": {
    "id": "7xtucI0b1xHS",
    "executionInfo": {
     "status": "ok",
     "timestamp": 1743419245008,
     "user_tz": -120,
     "elapsed": 51,
     "user": {
      "displayName": "Yuliya Dabreha",
      "userId": "05622474096039686923"
     }
    }
   },
   "execution_count": 78,
   "outputs": []
  },
  {
   "cell_type": "code",
   "source": [
    "result_df = pd.DataFrame(results)\n",
    "print(result_df[['file', 'prediction']])"
   ],
   "metadata": {
    "colab": {
     "base_uri": "https://localhost:8080/"
    },
    "id": "01HyqZEK11Z5",
    "executionInfo": {
     "status": "ok",
     "timestamp": 1743419274863,
     "user_tz": -120,
     "elapsed": 54,
     "user": {
      "displayName": "Yuliya Dabreha",
      "userId": "05622474096039686923"
     }
    },
    "outputId": "6427e889-5d6b-442a-e983-1cb4e39ae926"
   },
   "execution_count": 80,
   "outputs": [
    {
     "output_type": "stream",
     "name": "stdout",
     "text": [
      "                 file prediction\n",
      "0  predic_gender1.txt        [m]\n",
      "1  predic_gender2.txt        [f]\n",
      "2  predic_gender3.txt        [m]\n"
     ]
    }
   ]
  }
 ]
}
